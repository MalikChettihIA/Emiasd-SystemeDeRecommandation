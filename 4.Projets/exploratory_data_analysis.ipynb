{
 "cells": [
  {
   "cell_type": "code",
   "execution_count": 12,
   "id": "6c276efd",
   "metadata": {},
   "outputs": [],
   "source": [
    "# Import libraries\n",
    "import pandas as pd"
   ]
  },
  {
   "cell_type": "markdown",
   "id": "00bdbb54",
   "metadata": {},
   "source": [
    "# DataSet"
   ]
  },
  {
   "cell_type": "code",
   "execution_count": 63,
   "id": "937f3c9b",
   "metadata": {},
   "outputs": [],
   "source": [
    "# Chargement dataset\n",
    "\n",
    "# Article Dataset\n",
    "articles_df = pd.read_csv('./data/articles.csv')\n",
    "articles_df['article_id'] = pd.to_numeric(articles_df['article_id'])\n",
    "\n",
    "# Customer Dataset\n",
    "customers_df = pd.read_csv('./data/customers.csv')\n",
    "\n",
    "# Transaction dataset\n",
    "transactions_df = pd.read_csv('./data/transactions_train.csv')\n",
    "transactions_df['article_id'] = pd.to_numeric(transactions_df['article_id'])"
   ]
  },
  {
   "cell_type": "code",
   "execution_count": 64,
   "id": "5fdc90fe",
   "metadata": {},
   "outputs": [
    {
     "name": "stdout",
     "output_type": "stream",
     "text": [
      "Article DataSet Exploration\n",
      "----------------------------------------------------------------------------------------------------\n",
      "- Nb Articles 105542\n",
      "- Nb Article Duplicates, 0\n",
      "                         colonne     type\n",
      "0                     article_id  numeric\n",
      "1                   product_code  numeric\n",
      "2                      prod_name     char\n",
      "3                product_type_no  numeric\n",
      "4              product_type_name     char\n",
      "5             product_group_name     char\n",
      "6        graphical_appearance_no  numeric\n",
      "7      graphical_appearance_name     char\n",
      "8              colour_group_code  numeric\n",
      "9              colour_group_name     char\n",
      "10     perceived_colour_value_id  numeric\n",
      "11   perceived_colour_value_name     char\n",
      "12    perceived_colour_master_id  numeric\n",
      "13  perceived_colour_master_name     char\n",
      "14                 department_no  numeric\n",
      "15               department_name     char\n",
      "16                    index_code     char\n",
      "17                    index_name     char\n",
      "18                index_group_no  numeric\n",
      "19              index_group_name     char\n",
      "20                    section_no  numeric\n",
      "21                  section_name     char\n",
      "22              garment_group_no  numeric\n",
      "23            garment_group_name     char\n",
      "24                   detail_desc     char\n",
      "   article_id  product_code          prod_name  product_type_no  \\\n",
      "0   108775015        108775          Strap top              253   \n",
      "1   108775044        108775          Strap top              253   \n",
      "2   108775051        108775      Strap top (1)              253   \n",
      "3   110065001        110065  OP T-shirt (Idro)              306   \n",
      "4   110065002        110065  OP T-shirt (Idro)              306   \n",
      "\n",
      "  product_type_name  product_group_name  graphical_appearance_no  \\\n",
      "0          Vest top  Garment Upper body                  1010016   \n",
      "1          Vest top  Garment Upper body                  1010016   \n",
      "2          Vest top  Garment Upper body                  1010017   \n",
      "3               Bra           Underwear                  1010016   \n",
      "4               Bra           Underwear                  1010016   \n",
      "\n",
      "  graphical_appearance_name  colour_group_code colour_group_name  ...  \\\n",
      "0                     Solid                  9             Black  ...   \n",
      "1                     Solid                 10             White  ...   \n",
      "2                    Stripe                 11         Off White  ...   \n",
      "3                     Solid                  9             Black  ...   \n",
      "4                     Solid                 10             White  ...   \n",
      "\n",
      "   department_name index_code        index_name index_group_no  \\\n",
      "0     Jersey Basic          A        Ladieswear              1   \n",
      "1     Jersey Basic          A        Ladieswear              1   \n",
      "2     Jersey Basic          A        Ladieswear              1   \n",
      "3   Clean Lingerie          B  Lingeries/Tights              1   \n",
      "4   Clean Lingerie          B  Lingeries/Tights              1   \n",
      "\n",
      "   index_group_name section_no            section_name garment_group_no  \\\n",
      "0        Ladieswear         16  Womens Everyday Basics             1002   \n",
      "1        Ladieswear         16  Womens Everyday Basics             1002   \n",
      "2        Ladieswear         16  Womens Everyday Basics             1002   \n",
      "3        Ladieswear         61         Womens Lingerie             1017   \n",
      "4        Ladieswear         61         Womens Lingerie             1017   \n",
      "\n",
      "   garment_group_name                                        detail_desc  \n",
      "0        Jersey Basic            Jersey top with narrow shoulder straps.  \n",
      "1        Jersey Basic            Jersey top with narrow shoulder straps.  \n",
      "2        Jersey Basic            Jersey top with narrow shoulder straps.  \n",
      "3   Under-, Nightwear  Microfibre T-shirt bra with underwired, moulde...  \n",
      "4   Under-, Nightwear  Microfibre T-shirt bra with underwired, moulde...  \n",
      "\n",
      "[5 rows x 25 columns]\n"
     ]
    }
   ],
   "source": [
    "from helpers import read_df_metadata\n",
    "\n",
    "df_articles_types = read_df_metadata(articles_df)\n",
    "nb_articles = articles_df.shape[0]\n",
    "nb_articles_with_null_article_id = articles_df['article_id'].isnull().sum()\n",
    "\n",
    "print('Article DataSet Exploration')\n",
    "print('--'*50)\n",
    "print(f'- Nb Articles {nb_articles}')\n",
    "print(f'- Nb Article Duplicates, {articles_df['article_id'].duplicated().sum()}')\n",
    "print(df_articles_types)\n",
    "print(articles_df.head())\n",
    "\n"
   ]
  },
  {
   "cell_type": "code",
   "execution_count": 65,
   "id": "f7f6582b",
   "metadata": {},
   "outputs": [
    {
     "name": "stdout",
     "output_type": "stream",
     "text": [
      "Customer DataSet Exploration\n",
      "----------------------------------------------------------------------------------------------------\n",
      "- Nb Customer 1371980\n",
      "- Nb Article Duplicates, 0\n",
      "                  colonne     type\n",
      "0             customer_id     char\n",
      "1                      FN  numeric\n",
      "2                  Active  numeric\n",
      "3      club_member_status     char\n",
      "4  fashion_news_frequency     char\n",
      "5                     age  numeric\n",
      "6             postal_code     char\n",
      "                                         customer_id   FN  Active  \\\n",
      "0  00000dbacae5abe5e23885899a1fa44253a17956c6d1c3...  NaN     NaN   \n",
      "1  0000423b00ade91418cceaf3b26c6af3dd342b51fd051e...  NaN     NaN   \n",
      "2  000058a12d5b43e67d225668fa1f8d618c13dc232df0ca...  NaN     NaN   \n",
      "3  00005ca1c9ed5f5146b52ac8639a40ca9d57aeff4d1bd2...  NaN     NaN   \n",
      "4  00006413d8573cd20ed7128e53b7b13819fe5cfc2d801f...  1.0     1.0   \n",
      "\n",
      "  club_member_status fashion_news_frequency   age  \\\n",
      "0             ACTIVE                   NONE  49.0   \n",
      "1             ACTIVE                   NONE  25.0   \n",
      "2             ACTIVE                   NONE  24.0   \n",
      "3             ACTIVE                   NONE  54.0   \n",
      "4             ACTIVE              Regularly  52.0   \n",
      "\n",
      "                                         postal_code  \n",
      "0  52043ee2162cf5aa7ee79974281641c6f11a68d276429a...  \n",
      "1  2973abc54daa8a5f8ccfe9362140c63247c5eee03f1d93...  \n",
      "2  64f17e6a330a85798e4998f62d0930d14db8db1c054af6...  \n",
      "3  5d36574f52495e81f019b680c843c443bd343d5ca5b1c2...  \n",
      "4  25fa5ddee9aac01b35208d01736e57942317d756b32ddd...  \n"
     ]
    }
   ],
   "source": [
    "from helpers import read_df_metadata\n",
    "\n",
    "df_customers_types = read_df_metadata(customers_df)\n",
    "nb_customers = customers_df.shape[0]\n",
    "\n",
    "print('Customer DataSet Exploration')\n",
    "print('--'*50)\n",
    "print(f'- Nb Customer {nb_customers}')\n",
    "print(f'- Nb Article Duplicates, {customers_df['customer_id'].duplicated().sum()}')\n",
    "\n",
    "print(df_customers_types)\n",
    "print(customers_df.head())"
   ]
  },
  {
   "cell_type": "code",
   "execution_count": 66,
   "id": "0b36909d",
   "metadata": {},
   "outputs": [
    {
     "name": "stdout",
     "output_type": "stream",
     "text": [
      "Transactions DataSet Exploration\n",
      "----------------------------------------------------------------------------------------------------\n",
      "- Nb Transactions 31788324\n",
      "- Nb Transactions with null article id 0\n",
      "            colonne     type\n",
      "0             t_dat     char\n",
      "1       customer_id     char\n",
      "2        article_id  numeric\n",
      "3             price  numeric\n",
      "4  sales_channel_id  numeric\n",
      "        t_dat                                        customer_id  article_id  \\\n",
      "0  2018-09-20  000058a12d5b43e67d225668fa1f8d618c13dc232df0ca...   663713001   \n",
      "1  2018-09-20  000058a12d5b43e67d225668fa1f8d618c13dc232df0ca...   541518023   \n",
      "2  2018-09-20  00007d2de826758b65a93dd24ce629ed66842531df6699...   505221004   \n",
      "3  2018-09-20  00007d2de826758b65a93dd24ce629ed66842531df6699...   685687003   \n",
      "4  2018-09-20  00007d2de826758b65a93dd24ce629ed66842531df6699...   685687004   \n",
      "\n",
      "      price  sales_channel_id  \n",
      "0  0.050831                 2  \n",
      "1  0.030492                 2  \n",
      "2  0.015237                 2  \n",
      "3  0.016932                 2  \n",
      "4  0.016932                 2  \n"
     ]
    }
   ],
   "source": [
    "from helpers import read_df_metadata\n",
    "\n",
    "df_transactions_types = read_df_metadata(transactions_df)\n",
    "nb_transactions = transactions_df.shape[0]\n",
    "nb_transactions_with_null_article_id = transactions_df['article_id'].isnull().sum()\n",
    "\n",
    "\n",
    "print('Transactions DataSet Exploration')\n",
    "print('--'*50)\n",
    "print(f'- Nb Transactions {nb_transactions}')\n",
    "print(f'- Nb Transactions with null article id {nb_transactions_with_null_article_id}')\n",
    "\n",
    "\n",
    "print(df_transactions_types)\n",
    "print(transactions_df.head())\n",
    "\n",
    "transactions_df['article_id'] = pd.to_numeric(transactions_df['article_id'])\n",
    "\n"
   ]
  },
  {
   "cell_type": "code",
   "execution_count": 67,
   "id": "02c1b3b4",
   "metadata": {},
   "outputs": [
    {
     "name": "stdout",
     "output_type": "stream",
     "text": [
      "----------------------------------------------------------------------------------------------------\n",
      "Nb all df merged lignes 31788324\n"
     ]
    }
   ],
   "source": [
    "# DataSet - Join sur les trois dataset\n",
    "\n",
    "merged_df = transactions_df.merge(articles_df, on='article_id', how='inner')\n",
    "\n",
    "print('--'*50)\n",
    "print(f'Nb all df merged lignes {merged_df.shape[0]}')\n",
    "\n"
   ]
  },
  {
   "cell_type": "code",
   "execution_count": 68,
   "id": "12e0bb1c",
   "metadata": {},
   "outputs": [
    {
     "name": "stdout",
     "output_type": "stream",
     "text": [
      "31788324 - Nb all df merged lignes \n",
      "31788324 - Nb Transactions \n",
      "1371980 - Nb Customer \n",
      "105542 - Nb Articles\n"
     ]
    }
   ],
   "source": [
    "print(f'{merged_df.shape[0]} - Nb all df merged lignes ')\n",
    "print(f'{nb_transactions} - Nb Transactions ')\n",
    "print(f'{nb_customers} - Nb Customer ')\n",
    "print(f'{nb_articles} - Nb Articles')"
   ]
  },
  {
   "cell_type": "markdown",
   "id": "80e879bf",
   "metadata": {},
   "source": [
    "# Echantillonage\n",
    "\n",
    "On echatillonne par:\n",
    "- Nb transactions pas article\n",
    "- Nb transactions par customer, attention au revendeur. On ne fait > 100 mais Appartient a [100,500]\n",
    "- Nb transactions par catégories, on affiche le nombre d vente par catégories et on elague"
   ]
  },
  {
   "cell_type": "code",
   "execution_count": 77,
   "id": "ef10c378",
   "metadata": {},
   "outputs": [
    {
     "name": "stdout",
     "output_type": "stream",
     "text": [
      "(16959508, 29)\n",
      "(9413225, 29)\n"
     ]
    }
   ],
   "source": [
    "k_article = 1000\n",
    "k_customer = 100\n",
    "\n",
    "\n",
    "def enchantillonner(df, column_name, k):\n",
    "\n",
    "    column_counts = df[column_name].value_counts()\n",
    "    columns_valid = column_counts[column_counts >= k].index\n",
    "    df_filtered = df[df[column_name].isin(columns_valid)]\n",
    "    return df_filtered\n",
    "\n",
    "echantillon_df = enchantillonner(merged_df, 'article_id', k_article) \n",
    "print(echantillon_df.shape)   \n",
    "\n",
    "echantillon_df = enchantillonner(merged_df, 'customer_id', k_customer) \n",
    "print(echantillon_df.shape)  \n"
   ]
  },
  {
   "cell_type": "code",
   "execution_count": 80,
   "id": "8052e758",
   "metadata": {},
   "outputs": [
    {
     "data": {
      "image/png": "[encoded data removed]",
      "text/plain": [
       "<Figure size 1000x500 with 1 Axes>"
      ]
     },
     "metadata": {},
     "output_type": "display_data"
    }
   ],
   "source": [
    "import matplotlib.pyplot as plt\n",
    "\n",
    "# On suppose que ton DataFrame s'appelle df et la colonne client est 'customer_id'\n",
    "ventes_par_client = merged_df['customer_id'].value_counts()\n",
    "\n",
    "plt.figure(figsize=(10, 5))\n",
    "plt.hist(ventes_par_client, bins=50, edgecolor='black')\n",
    "plt.title('Distribution du nombre de ventes par client')\n",
    "plt.xlabel('Nombre de ventes (transactions) par client')\n",
    "plt.ylabel('Nombre de clients')\n",
    "plt.yscale('log')  # souvent utile pour voir la distribution sur de grands volumes\n",
    "plt.show()"
   ]
  }
 ],
 "metadata": {
  "kernelspec": {
   "display_name": "Emiasd-RecSys-env",
   "language": "python",
   "name": "python3"
  },
  "language_info": {
   "codemirror_mode": {
    "name": "ipython",
    "version": 3
   },
   "file_extension": ".py",
   "mimetype": "text/x-python",
   "name": "python",
   "nbconvert_exporter": "python",
   "pygments_lexer": "ipython3",
   "version": "3.13.2"
  }
 },
 "nbformat": 4,
 "nbformat_minor": 5
}
